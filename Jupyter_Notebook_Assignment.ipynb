{
 "cells": [
  {
   "cell_type": "markdown",
   "metadata": {},
   "source": [
    "<center>\n",
    "    <img src=\"https://cf-courses-data.s3.us.cloud-object-storage.appdomain.cloud/IBMDeveloperSkillsNetwork-DS0105EN-SkillsNetwork/labs/Module2/images/SN_web_lightmode.png\" width=\"300\" alt=\"cognitiveclass.ai logo\">\n",
    "</center>\n"
   ]
  },
  {
   "cell_type": "markdown",
   "metadata": {},
   "source": [
    "#### Add your code below following the instructions given in the course\n"
   ]
  },
  {
   "cell_type": "markdown",
   "metadata": {},
   "source": [
    "# Peer graded assignment for \"Tools for Data Science\" module\n"
   ]
  },
  {
   "cell_type": "markdown",
   "metadata": {},
   "source": [
    "## Hi, I'm Michael and this is my peer graded assignment"
   ]
  },
  {
   "cell_type": "markdown",
   "metadata": {},
   "source": [
    "### Data Science languages are:\n",
    "- Python\n",
    "- R\n",
    "- Scala\n",
    "- Java\n",
    "- SQL\n",
    "- Julia"
   ]
  },
  {
   "cell_type": "markdown",
   "metadata": {},
   "source": [
    "### Data Science libraries are:\n",
    "- Pandas\n",
    "- Numpy\n",
    "- Tensorflow\n",
    "- Pytorch\n",
    "- Seaborn\n",
    "- Matplotlib"
   ]
  },
  {
   "cell_type": "markdown",
   "metadata": {},
   "source": [
    "### Table of Data Science tools:\n",
    "\n",
    "| Number | Name of tool |\n",
    "| ---- | ---- |\n",
    "| 1 | Jupyter Notebook |\n",
    "| 2 | RStudio IDE |\n",
    "| 3 | GitHub |\n",
    "| 4 | Watson Studio |\n",
    "| 5 | IBM Watson Knowledge Catalog |\n",
    "| 6 | Data Refinery |\n",
    "| 7 | SPSS Modeler Flows |\n",
    "| 8 | IBM SPSS Modeler |\n",
    "| 9 | SPSS Statistics |\n",
    "| 10 | Model Deployment with Watson Machine Learning |\n",
    "| 11 | Auto AI |\n",
    "| 12 | IBM Watson OpenScale |"
   ]
  },
  {
   "cell_type": "markdown",
   "metadata": {},
   "source": [
    "### Examples of arithmetic expressions are:\n",
    "\n",
    "| Name | Symbol |\n",
    "| ---- | ---- |\n",
    "| addition | + |\n",
    "| subtraction | - |\n",
    "| multiplication | * |\n",
    "| division | / |"
   ]
  },
  {
   "cell_type": "code",
   "execution_count": 2,
   "metadata": {},
   "outputs": [
    {
     "data": {
      "text/plain": [
       "105"
      ]
     },
     "execution_count": 2,
     "metadata": {},
     "output_type": "execute_result"
    }
   ],
   "source": [
    "15*(5+2)"
   ]
  },
  {
   "cell_type": "code",
   "execution_count": 10,
   "metadata": {},
   "outputs": [
    {
     "data": {
      "text/plain": [
       "0.0"
      ]
     },
     "execution_count": 10,
     "metadata": {},
     "output_type": "execute_result"
    }
   ],
   "source": [
    "minutes = 0\n",
    "hours = minutes/60\n",
    "hours"
   ]
  },
  {
   "cell_type": "markdown",
   "metadata": {},
   "source": [
    "### This is list for objectives:\n",
    "- Objective 1\n",
    "- Objective 2\n",
    "- Objective 3\n",
    "- Objective 4\n",
    "- Objective 5"
   ]
  },
  {
   "cell_type": "markdown",
   "metadata": {},
   "source": [
    "## Author's name of this notebook is Michael"
   ]
  }
 ],
 "metadata": {
  "kernelspec": {
   "display_name": "Python",
   "language": "python",
   "name": "conda-env-python-py"
  },
  "language_info": {
   "codemirror_mode": {
    "name": "ipython",
    "version": 3
   },
   "file_extension": ".py",
   "mimetype": "text/x-python",
   "name": "python",
   "nbconvert_exporter": "python",
   "pygments_lexer": "ipython3",
   "version": "3.7.12"
  }
 },
 "nbformat": 4,
 "nbformat_minor": 4
}
