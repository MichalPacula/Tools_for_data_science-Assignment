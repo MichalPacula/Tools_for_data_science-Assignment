{
 "cells": [
  {
   "cell_type": "markdown",
   "id": "08c75c98-a26b-4353-98d0-536d59c2468c",
   "metadata": {},
   "source": [
    "# My Jupyter Notebook on IBM Watson Studio"
   ]
  },
  {
   "cell_type": "markdown",
   "id": "56beac13-0178-4bce-841d-3f0f8be77f2c",
   "metadata": {},
   "source": [
    "__Michał__\n",
    "\n",
    "Data scientist"
   ]
  },
  {
   "cell_type": "markdown",
   "id": "48a6463c-340d-4ffa-a06b-533f2178adac",
   "metadata": {},
   "source": [
    "_I'm interested in data science, because I really like to analyze data in my life and get some results and improvement from it. Also machine learning fascinaties me._"
   ]
  },
  {
   "cell_type": "markdown",
   "id": "fbb5b20a-c540-43e6-902f-c8d4fef99baa",
   "metadata": {},
   "source": [
    "### My code in cell 5 will divide number 10 with number 5"
   ]
  },
  {
   "cell_type": "code",
   "execution_count": 1,
   "id": "e471da49-98b5-48eb-9f1b-b34f99fc187f",
   "metadata": {},
   "outputs": [
    {
     "data": {
      "text/plain": [
       "2.0"
      ]
     },
     "execution_count": 1,
     "metadata": {},
     "output_type": "execute_result"
    }
   ],
   "source": [
    "10/5"
   ]
  },
  {
   "cell_type": "markdown",
   "id": "0f83a929-e140-44d2-bfac-217b98520598",
   "metadata": {},
   "source": [
    "- a\n",
    "- b\n",
    "- c\n",
    "\n",
    "| heading | heading|\n",
    "| ---- | ---- |\n",
    "| cell | cell |\n",
    "| cell | cell |\n",
    "\n",
    "<a href=\"https://www.coursera.org/professional-certificates/ibm-data-science?\">Link to IBM Data Science Professional Certificate</a>"
   ]
  }
 ],
 "metadata": {
  "kernelspec": {
   "display_name": "Python",
   "language": "python",
   "name": "conda-env-python-py"
  },
  "language_info": {
   "codemirror_mode": {
    "name": "ipython",
    "version": 3
   },
   "file_extension": ".py",
   "mimetype": "text/x-python",
   "name": "python",
   "nbconvert_exporter": "python",
   "pygments_lexer": "ipython3",
   "version": "3.7.12"
  }
 },
 "nbformat": 4,
 "nbformat_minor": 5
}
